{
  "metadata": {
    "kernelspec": {
      "language": "python",
      "display_name": "Python 3",
      "name": "python3"
    },
    "language_info": {
      "name": "python",
      "version": "3.10.14",
      "mimetype": "text/x-python",
      "codemirror_mode": {
        "name": "ipython",
        "version": 3
      },
      "pygments_lexer": "ipython3",
      "nbconvert_exporter": "python",
      "file_extension": ".py"
    },
    "kaggle": {
      "accelerator": "none",
      "dataSources": [
        {
          "sourceId": 9468317,
          "sourceType": "datasetVersion",
          "datasetId": 5686253
        }
      ],
      "dockerImageVersionId": 30786,
      "isInternetEnabled": true,
      "language": "python",
      "sourceType": "notebook",
      "isGpuEnabled": false
    },
    "colab": {
      "provenance": [],
      "include_colab_link": true
    }
  },
  "nbformat_minor": 0,
  "nbformat": 4,
  "cells": [
    {
      "cell_type": "markdown",
      "metadata": {
        "id": "view-in-github",
        "colab_type": "text"
      },
      "source": [
        "<a href=\"https://colab.research.google.com/github/risherb/fantasy-league/blob/main/fantasy_premier_league.ipynb\" target=\"_parent\"><img src=\"https://colab.research.google.com/assets/colab-badge.svg\" alt=\"Open In Colab\"/></a>"
      ]
    },
    {
      "source": [
        "\n",
        "\n",
        "import os\n",
        "import sys\n",
        "from tempfile import NamedTemporaryFile\n",
        "from urllib.request import urlopen\n",
        "from urllib.parse import unquote, urlparse\n",
        "from urllib.error import HTTPError\n",
        "from zipfile import ZipFile\n",
        "import tarfile\n",
        "import shutil\n",
        "\n",
        "CHUNK_SIZE = 40960\n",
        "DATA_SOURCE_MAPPING = 'fantasy-premier-league-fpl-player-data-2024-2025:https%3A%2F%2Fstorage.googleapis.com%2Fkaggle-data-sets%2F5686253%2F9468317%2Fbundle%2Farchive.zip%3FX-Goog-Algorithm%3DGOOG4-RSA-SHA256%26X-Goog-Credential%3Dgcp-kaggle-com%2540kaggle-161607.iam.gserviceaccount.com%252F20241004%252Fauto%252Fstorage%252Fgoog4_request%26X-Goog-Date%3D20241004T055408Z%26X-Goog-Expires%3D259200%26X-Goog-SignedHeaders%3Dhost%26X-Goog-Signature%3D303d66589d36e740bc71359167a5f35699ec882d7a007f9a6278bf5de2d34aa69627d483f02f2272b1fa59431a6f15383394b20c182f2b048aeae8db00e6b0e0baa7f9da588efb6fd4e5320a3197c184564a5ffb335cec7aa606032fb543d4f9bcb061aea3ebade819201dbaf1ae1add6b432142ef2f924256962c653f07b4945a9abac13a315386a3c17647ed510e6a410947effcf17eebe6e307cb5e92b1082c7af9bde0342d47d07204d2edadbb186752bf39e0c4bec491768b4ac5a63524eb93f2113e47a5df1c916780c7808d1099d118cc46f99c815cb46dea2ccc7a07ac5ea765afadf699880516abc887633b0479f4a953fdf2c8c883db03a68fcf3e'\n",
        "\n",
        "KAGGLE_INPUT_PATH='/kaggle/input'\n",
        "KAGGLE_WORKING_PATH='/kaggle/working'\n",
        "KAGGLE_SYMLINK='kaggle'\n",
        "\n",
        "!umount /kaggle/input/ 2> /dev/null\n",
        "shutil.rmtree('/kaggle/input', ignore_errors=True)\n",
        "os.makedirs(KAGGLE_INPUT_PATH, 0o777, exist_ok=True)\n",
        "os.makedirs(KAGGLE_WORKING_PATH, 0o777, exist_ok=True)\n",
        "\n",
        "try:\n",
        "  os.symlink(KAGGLE_INPUT_PATH, os.path.join(\"..\", 'input'), target_is_directory=True)\n",
        "except FileExistsError:\n",
        "  pass\n",
        "try:\n",
        "  os.symlink(KAGGLE_WORKING_PATH, os.path.join(\"..\", 'working'), target_is_directory=True)\n",
        "except FileExistsError:\n",
        "  pass\n",
        "\n",
        "for data_source_mapping in DATA_SOURCE_MAPPING.split(','):\n",
        "    directory, download_url_encoded = data_source_mapping.split(':')\n",
        "    download_url = unquote(download_url_encoded)\n",
        "    filename = urlparse(download_url).path\n",
        "    destination_path = os.path.join(KAGGLE_INPUT_PATH, directory)\n",
        "    try:\n",
        "        with urlopen(download_url) as fileres, NamedTemporaryFile() as tfile:\n",
        "            total_length = fileres.headers['content-length']\n",
        "            print(f'Downloading {directory}, {total_length} bytes compressed')\n",
        "            dl = 0\n",
        "            data = fileres.read(CHUNK_SIZE)\n",
        "            while len(data) > 0:\n",
        "                dl += len(data)\n",
        "                tfile.write(data)\n",
        "                done = int(50 * dl / int(total_length))\n",
        "                sys.stdout.write(f\"\\r[{'=' * done}{' ' * (50-done)}] {dl} bytes downloaded\")\n",
        "                sys.stdout.flush()\n",
        "                data = fileres.read(CHUNK_SIZE)\n",
        "            if filename.endswith('.zip'):\n",
        "              with ZipFile(tfile) as zfile:\n",
        "                zfile.extractall(destination_path)\n",
        "            else:\n",
        "              with tarfile.open(tfile.name) as tarfile:\n",
        "                tarfile.extractall(destination_path)\n",
        "            print(f'\\nDownloaded and uncompressed: {directory}')\n",
        "    except HTTPError as e:\n",
        "        print(f'Failed to load (likely expired) {download_url} to path {destination_path}')\n",
        "        continue\n",
        "    except OSError as e:\n",
        "        print(f'Failed to load {download_url} to path {destination_path}')\n",
        "        continue\n",
        "\n",
        "print('Data source import complete.')\n"
      ],
      "metadata": {
        "id": "OyPzyuwUF8sP"
      },
      "cell_type": "code",
      "outputs": [],
      "execution_count": null
    },
    {
      "cell_type": "code",
      "source": [
        "# This Python 3 environment comes with many helpful analytics libraries installed\n",
        "# It is defined by the kaggle/python Docker image: https://github.com/kaggle/docker-python\n",
        "# For example, here's several helpful packages to load\n",
        "\n",
        "import numpy as np # linear algebra\n",
        "import pandas as pd # data processing, CSV file I/O (e.g. pd.read_csv)\n",
        "\n",
        "# Input data files are available in the read-only \"../input/\" directory\n",
        "# For example, running this (by clicking run or pressing Shift+Enter) will list all files under the input directory\n",
        "\n",
        "import os\n",
        "for dirname, _, filenames in os.walk('/kaggle/input'):\n",
        "    for filename in filenames:\n",
        "        print(os.path.join(dirname, filename))\n",
        "\n",
        "# You can write up to 20GB to the current directory (/kaggle/working/) that gets preserved as output when you create a version using \"Save & Run All\"\n",
        "# You can also write temporary files to /kaggle/temp/, but they won't be saved outside of the current session"
      ],
      "metadata": {
        "_uuid": "8f2839f25d086af736a60e9eeb907d3b93b6e0e5",
        "_cell_guid": "b1076dfc-b9ad-4769-8c92-a6c4dae69d19",
        "execution": {
          "iopub.status.busy": "2024-10-04T00:17:39.227196Z",
          "iopub.execute_input": "2024-10-04T00:17:39.227659Z",
          "iopub.status.idle": "2024-10-04T00:17:39.236671Z",
          "shell.execute_reply.started": "2024-10-04T00:17:39.227614Z",
          "shell.execute_reply": "2024-10-04T00:17:39.235593Z"
        },
        "trusted": true,
        "id": "Yk-309rEF8sS"
      },
      "execution_count": null,
      "outputs": []
    },
    {
      "cell_type": "code",
      "source": [
        "import matplotlib.pyplot as plt\n",
        "import seaborn as sns\n",
        "import plotly.express as px"
      ],
      "metadata": {
        "execution": {
          "iopub.status.busy": "2024-10-04T00:17:39.538025Z",
          "iopub.execute_input": "2024-10-04T00:17:39.538511Z",
          "iopub.status.idle": "2024-10-04T00:17:39.544538Z",
          "shell.execute_reply.started": "2024-10-04T00:17:39.538465Z",
          "shell.execute_reply": "2024-10-04T00:17:39.543141Z"
        },
        "trusted": true,
        "id": "wzEqY173F8sT"
      },
      "execution_count": null,
      "outputs": []
    },
    {
      "cell_type": "code",
      "source": [
        "df = pd.read_csv(\"/kaggle/input/fantasy-premier-league-fpl-player-data-2024-2025/fpl_playerstats_2024-25.csv\")\n",
        "df.head()"
      ],
      "metadata": {
        "execution": {
          "iopub.status.busy": "2024-10-04T00:17:39.970615Z",
          "iopub.execute_input": "2024-10-04T00:17:39.971056Z",
          "iopub.status.idle": "2024-10-04T00:17:40.008678Z",
          "shell.execute_reply.started": "2024-10-04T00:17:39.971012Z",
          "shell.execute_reply": "2024-10-04T00:17:40.007481Z"
        },
        "trusted": true,
        "id": "pI5umuO5F8sT"
      },
      "execution_count": null,
      "outputs": []
    },
    {
      "cell_type": "code",
      "source": [
        "df.info()"
      ],
      "metadata": {
        "execution": {
          "iopub.status.busy": "2024-10-04T00:17:40.46206Z",
          "iopub.execute_input": "2024-10-04T00:17:40.462901Z",
          "iopub.status.idle": "2024-10-04T00:17:40.47685Z",
          "shell.execute_reply.started": "2024-10-04T00:17:40.462853Z",
          "shell.execute_reply": "2024-10-04T00:17:40.475712Z"
        },
        "trusted": true,
        "id": "tzX5gnX-F8sU"
      },
      "execution_count": null,
      "outputs": []
    },
    {
      "cell_type": "code",
      "source": [
        "df.describe()"
      ],
      "metadata": {
        "execution": {
          "iopub.status.busy": "2024-10-04T00:17:40.911584Z",
          "iopub.execute_input": "2024-10-04T00:17:40.911982Z",
          "iopub.status.idle": "2024-10-04T00:17:41.003423Z",
          "shell.execute_reply.started": "2024-10-04T00:17:40.911943Z",
          "shell.execute_reply": "2024-10-04T00:17:41.001838Z"
        },
        "trusted": true,
        "id": "JNefTVlQF8sU"
      },
      "execution_count": null,
      "outputs": []
    },
    {
      "cell_type": "markdown",
      "source": [
        "## missing values"
      ],
      "metadata": {
        "id": "UEtKbfR8F8sV"
      }
    },
    {
      "cell_type": "code",
      "source": [
        "df.isna().sum()"
      ],
      "metadata": {
        "execution": {
          "iopub.status.busy": "2024-10-04T00:17:42.339378Z",
          "iopub.execute_input": "2024-10-04T00:17:42.34048Z",
          "iopub.status.idle": "2024-10-04T00:17:42.352204Z",
          "shell.execute_reply.started": "2024-10-04T00:17:42.340414Z",
          "shell.execute_reply": "2024-10-04T00:17:42.350822Z"
        },
        "trusted": true,
        "id": "_So4NIiRF8sX"
      },
      "execution_count": null,
      "outputs": []
    },
    {
      "cell_type": "code",
      "source": [
        "df.drop([\"team_form\"], inplace =True ,axis = 1  )\n",
        "df.sample(10)"
      ],
      "metadata": {
        "execution": {
          "iopub.status.busy": "2024-10-04T00:17:42.794079Z",
          "iopub.execute_input": "2024-10-04T00:17:42.794575Z",
          "iopub.status.idle": "2024-10-04T00:17:42.835521Z",
          "shell.execute_reply.started": "2024-10-04T00:17:42.79453Z",
          "shell.execute_reply": "2024-10-04T00:17:42.834257Z"
        },
        "trusted": true,
        "id": "CuMFYrF_F8sX"
      },
      "execution_count": null,
      "outputs": []
    },
    {
      "cell_type": "code",
      "source": [
        "x= df['gw1_points'].mode()[0]\n",
        "df['gw1_points'].fillna(x , inplace = True)\n",
        "df['gw2_points'].fillna(x , inplace = True)\n",
        "df['gw3_points'].fillna(x , inplace = True)\n",
        "df['gw4_points'].fillna(x , inplace = True)"
      ],
      "metadata": {
        "execution": {
          "iopub.status.busy": "2024-10-04T00:30:04.655334Z",
          "iopub.execute_input": "2024-10-04T00:30:04.656252Z",
          "iopub.status.idle": "2024-10-04T00:30:04.665Z",
          "shell.execute_reply.started": "2024-10-04T00:30:04.656111Z",
          "shell.execute_reply": "2024-10-04T00:30:04.663891Z"
        },
        "trusted": true,
        "id": "e_R3_Bw7F8sY"
      },
      "execution_count": null,
      "outputs": []
    },
    {
      "cell_type": "code",
      "source": [
        "df.isna().sum()"
      ],
      "metadata": {
        "execution": {
          "iopub.status.busy": "2024-10-04T00:30:07.023412Z",
          "iopub.execute_input": "2024-10-04T00:30:07.024233Z",
          "iopub.status.idle": "2024-10-04T00:30:07.034844Z",
          "shell.execute_reply.started": "2024-10-04T00:30:07.024125Z",
          "shell.execute_reply": "2024-10-04T00:30:07.033729Z"
        },
        "trusted": true,
        "id": "mtw_sAPuF8sZ"
      },
      "execution_count": null,
      "outputs": []
    },
    {
      "cell_type": "code",
      "source": [
        "df.head()"
      ],
      "metadata": {
        "execution": {
          "iopub.status.busy": "2024-10-04T00:47:18.439211Z",
          "iopub.execute_input": "2024-10-04T00:47:18.439999Z",
          "iopub.status.idle": "2024-10-04T00:47:18.470744Z",
          "shell.execute_reply.started": "2024-10-04T00:47:18.43995Z",
          "shell.execute_reply": "2024-10-04T00:47:18.469702Z"
        },
        "trusted": true,
        "id": "lrwAhOwNF8sZ"
      },
      "execution_count": null,
      "outputs": []
    },
    {
      "cell_type": "code",
      "source": [
        "fig = px.bar(df, x='player_position',  y= 'total_points' , color = 'team_name', title = 'max position point')\n",
        "fig.show()"
      ],
      "metadata": {
        "execution": {
          "iopub.status.busy": "2024-10-04T00:53:50.109638Z",
          "iopub.execute_input": "2024-10-04T00:53:50.110081Z",
          "iopub.status.idle": "2024-10-04T00:53:50.282247Z",
          "shell.execute_reply.started": "2024-10-04T00:53:50.110038Z",
          "shell.execute_reply": "2024-10-04T00:53:50.281118Z"
        },
        "trusted": true,
        "id": "M_z2MNb8F8sa"
      },
      "execution_count": null,
      "outputs": []
    },
    {
      "cell_type": "code",
      "source": [
        "fig = px.pie(df, names ='team_name',  values= 'total_points' , title = 'max team points')\n",
        "fig.show()"
      ],
      "metadata": {
        "execution": {
          "iopub.status.busy": "2024-10-04T01:16:28.790849Z",
          "iopub.execute_input": "2024-10-04T01:16:28.791308Z",
          "iopub.status.idle": "2024-10-04T01:16:28.895737Z",
          "shell.execute_reply.started": "2024-10-04T01:16:28.791264Z",
          "shell.execute_reply": "2024-10-04T01:16:28.894364Z"
        },
        "trusted": true,
        "id": "hTpuVFadF8sa"
      },
      "execution_count": null,
      "outputs": []
    },
    {
      "cell_type": "code",
      "source": [
        "fig = px.bar(df, x='team_name',  y= 'total_points' , color = 'player_position', title = 'Best positions per team')\n",
        "fig.show()"
      ],
      "metadata": {
        "execution": {
          "iopub.status.busy": "2024-10-04T01:51:51.560856Z",
          "iopub.execute_input": "2024-10-04T01:51:51.561351Z",
          "iopub.status.idle": "2024-10-04T01:51:51.656138Z",
          "shell.execute_reply.started": "2024-10-04T01:51:51.561304Z",
          "shell.execute_reply": "2024-10-04T01:51:51.655046Z"
        },
        "trusted": true,
        "id": "8JM2U9BmF8sa"
      },
      "execution_count": null,
      "outputs": []
    },
    {
      "cell_type": "code",
      "source": [
        "fig = px.bar(df, x='player_position',  y= 'goals_scored' , color = 'assists', title = 'most position Contribution')\n",
        "fig.show()"
      ],
      "metadata": {
        "execution": {
          "iopub.status.busy": "2024-10-04T01:56:33.830458Z",
          "iopub.execute_input": "2024-10-04T01:56:33.830897Z",
          "iopub.status.idle": "2024-10-04T01:56:33.914071Z",
          "shell.execute_reply.started": "2024-10-04T01:56:33.830854Z",
          "shell.execute_reply": "2024-10-04T01:56:33.912757Z"
        },
        "trusted": true,
        "id": "wwbAihcBF8sb"
      },
      "execution_count": null,
      "outputs": []
    },
    {
      "cell_type": "code",
      "source": [
        "fig = px.bar(df, x='team_name',  y= 'yellow_cards' , color = 'red_cards', title = 'most cards per team')\n",
        "fig.show()"
      ],
      "metadata": {
        "execution": {
          "iopub.status.busy": "2024-10-04T01:48:43.870525Z",
          "iopub.execute_input": "2024-10-04T01:48:43.870969Z",
          "iopub.status.idle": "2024-10-04T01:48:43.952399Z",
          "shell.execute_reply.started": "2024-10-04T01:48:43.870926Z",
          "shell.execute_reply": "2024-10-04T01:48:43.951413Z"
        },
        "trusted": true,
        "id": "qNPM4EuYF8sb"
      },
      "execution_count": null,
      "outputs": []
    },
    {
      "cell_type": "code",
      "source": [
        "fig = px.bar(df, x='player_cost',  y= 'goals_scored' , color = 'second_name', title = 'Most effective')\n",
        "fig.show()"
      ],
      "metadata": {
        "execution": {
          "iopub.status.busy": "2024-10-04T02:22:55.722588Z",
          "iopub.execute_input": "2024-10-04T02:22:55.723061Z",
          "iopub.status.idle": "2024-10-04T02:22:59.528664Z",
          "shell.execute_reply.started": "2024-10-04T02:22:55.723018Z",
          "shell.execute_reply": "2024-10-04T02:22:59.527311Z"
        },
        "trusted": true,
        "id": "yN-amCtwF8sb"
      },
      "execution_count": null,
      "outputs": []
    },
    {
      "cell_type": "code",
      "source": [],
      "metadata": {
        "id": "lqiyp5aLF8sc"
      },
      "execution_count": null,
      "outputs": []
    }
  ]
}